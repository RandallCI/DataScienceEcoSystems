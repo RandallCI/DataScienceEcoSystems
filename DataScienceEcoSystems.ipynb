{
 "cells": [
  {
   "cell_type": "code",
   "execution_count": 4,
   "metadata": {},
   "outputs": [
    {
     "name": "stdout",
     "output_type": "stream",
     "text": [
      "Data Science tools and ecosystems\n"
     ]
    }
   ],
   "source": [
    "print('Data Science tools and ecosystems')"
   ]
  },
  {
   "cell_type": "markdown",
   "metadata": {},
   "source": [
    "<h1>Data Science tools and ecosystem</h1>"
   ]
  },
  {
   "cell_type": "markdown",
   "metadata": {},
   "source": [
    "<h2>This notebook contains a summary of data science tools and ecosystems.</h2>"
   ]
  },
  {
   "cell_type": "markdown",
   "metadata": {},
   "source": [
    "<h4 styles=\"text-style: bold\";>Objectives</h4>\n",
    "<ul>\n",
    "    <li>Compiler resources were explored</li>\n",
    "    <li>Tools were explored</li>\n",
    "    <li>Data science communities were explored</li>\n",
    "    <li>Libraries were explored</li>\n",
    "</ul>"
   ]
  },
  {
   "cell_type": "markdown",
   "metadata": {},
   "source": [
    "<h3>Some popular data science programming languages</h3>"
   ]
  },
  {
   "cell_type": "markdown",
   "metadata": {},
   "source": [
    "<ol>\n",
    "    <li>\n",
    "    Python\n",
    "    </li>\n",
    "    <li>R</li>\n",
    "     <li>Julia</li>\n",
    "</ol>"
   ]
  },
  {
   "cell_type": "markdown",
   "metadata": {},
   "source": [
    "<h3>Some commonly used Data Science libraries</h3>"
   ]
  },
  {
   "cell_type": "markdown",
   "metadata": {},
   "source": [
    "<ol>\n",
    "    <li>\n",
    "        Pandas\n",
    "    </li>\n",
    "    <li>\n",
    "        MatPlotLib\n",
    "    </li>\n",
    "     <li>\n",
    "        PyTorch\n",
    "     </li>\n",
    "</ol>"
   ]
  },
  {
   "cell_type": "markdown",
   "metadata": {},
   "source": [
    "<h3>\n",
    "    Data Science Tools\n",
    "</h3>"
   ]
  },
  {
   "cell_type": "markdown",
   "metadata": {},
   "source": [
    "<table>\n",
    "<tr>\n",
    "    <th>Google</th>\n",
    "     <th>IBM</th>\n",
    "      \n",
    "</tr>\n",
    "<tr>\n",
    "    <td>TensoFlow</td>\n",
    "    <td>Watson Studio</td>\n",
    "   \n",
    "</tr>\n",
    "\n",
    "</table>"
   ]
  },
  {
   "cell_type": "markdown",
   "metadata": {},
   "source": [
    "<h3>Below are a few arithmatic evaluations.</h3>"
   ]
  },
  {
   "cell_type": "code",
   "execution_count": 2,
   "metadata": {},
   "outputs": [
    {
     "name": "stdout",
     "output_type": "stream",
     "text": [
      "200.0\n"
     ]
    }
   ],
   "source": [
    "result = (10 * 20) / 2 + 100\n",
    "print(result)"
   ]
  },
  {
   "cell_type": "markdown",
   "metadata": {},
   "source": [
    "<h3>Convert minutes to hours</h3>"
   ]
  },
  {
   "cell_type": "code",
   "execution_count": 8,
   "metadata": {},
   "outputs": [
    {
     "data": {
      "text/plain": [
       "4.0"
      ]
     },
     "execution_count": 8,
     "metadata": {},
     "output_type": "execute_result"
    }
   ],
   "source": [
    "def minuteToHourConverter(minutes):\n",
    "    return minutes / 60\n",
    "\n",
    "minuteToHourConverter(240)\n"
   ]
  },
  {
   "cell_type": "markdown",
   "metadata": {},
   "source": [
    "<h3>The Author</h3>\n",
    "Randall Isaacs\n",
    "<ul>\n",
    "    <li>iOS developer</li>\n",
    "    <li>Web developer</li>\n",
    "    <li>Children's book Author</li>\n",
    "    <li>Entrepenuer</li>\n",
    "</ul>"
   ]
  }
 ],
 "metadata": {
  "kernelspec": {
   "display_name": "Python 3",
   "language": "python",
   "name": "python3"
  },
  "language_info": {
   "codemirror_mode": {
    "name": "ipython",
    "version": 3
   },
   "file_extension": ".py",
   "mimetype": "text/x-python",
   "name": "python",
   "nbconvert_exporter": "python",
   "pygments_lexer": "ipython3",
   "version": "3.9.6"
  },
  "orig_nbformat": 4
 },
 "nbformat": 4,
 "nbformat_minor": 2
}
